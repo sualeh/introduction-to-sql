{
 "cells": [
  {
   "cell_type": "markdown",
   "metadata": {},
   "source": [
    "# 1. Queries\n",
    "\n",
    "In this section, we will learn how to write SQL queries to retrieve data from a database. Please review the [slides for the **Introduction to SQL course**](https://docs.google.com/presentation/d/1-FhnRYrehe3VSlITi6geGqh-DrtSP6nPN4tiPgpbGqQ/present) first, and then use the examples here to experiment.\n",
    "\n",
    "> The slides and course material are copyrighted, and licensed under the [GNU General Public License](LICENSE).\n",
    "\n",
    "-----"
   ]
  },
  {
   "cell_type": "code",
   "execution_count": null,
   "metadata": {},
   "outputs": [],
   "source": [
    "%pip install -qq jupysql sqlalchemy"
   ]
  },
  {
   "cell_type": "code",
   "execution_count": null,
   "metadata": {},
   "outputs": [],
   "source": [
    "from sqlalchemy import create_engine\n",
    "from create_database import create_database\n",
    "\n",
    "engine = create_engine('sqlite:///:memory:')\n",
    "create_database(engine)"
   ]
  },
  {
   "cell_type": "code",
   "execution_count": null,
   "metadata": {},
   "outputs": [],
   "source": [
    "%reload_ext sql\n",
    "%config SqlMagic.displaycon = False\n",
    "%config SqlMagic.feedback = 0\n",
    "%sql engine"
   ]
  },
  {
   "cell_type": "markdown",
   "metadata": {},
   "source": [
    "## Simple Query\n",
    "\n",
    "- The results of a query look like a table\n",
    "- Query results also have columns and rows of data"
   ]
  },
  {
   "cell_type": "markdown",
   "metadata": {},
   "source": [
    "Show all projects"
   ]
  },
  {
   "cell_type": "code",
   "execution_count": null,
   "metadata": {},
   "outputs": [],
   "source": [
    "%%sql\n",
    "\n",
    "SELECT *\n",
    "FROM PRODUCTS"
   ]
  },
  {
   "cell_type": "markdown",
   "metadata": {},
   "source": [
    "## Query with Filters\n",
    "\n",
    "- Use a `WHERE` clause to filter results\n",
    "- Use `AND` and `OR` to combine filters"
   ]
  },
  {
   "cell_type": "markdown",
   "metadata": {},
   "source": [
    "Show only gadgets"
   ]
  },
  {
   "cell_type": "code",
   "execution_count": null,
   "metadata": {},
   "outputs": [],
   "source": [
    "%%sql\n",
    "\n",
    "SELECT *\n",
    "FROM Products\n",
    "WHERE Category = 'Gadgets'"
   ]
  },
  {
   "cell_type": "markdown",
   "metadata": {},
   "source": [
    "## Comparisons\n",
    "\n",
    "Filters can use comparison operators\n",
    "\n",
    "| Operator  | Description        |\n",
    "| --- | ------------------------ |\n",
    "| =   | equals                   |\n",
    "| >   | greater than             |\n",
    "| <   | less than                |\n",
    "| >=  | greater than or equal to |\n",
    "| <=  | less than or equal to    |\n",
    "| <>  | not equal to             |"
   ]
  },
  {
   "cell_type": "markdown",
   "metadata": {},
   "source": [
    "Show products with a price more than $100"
   ]
  },
  {
   "cell_type": "code",
   "execution_count": null,
   "metadata": {},
   "outputs": [],
   "source": [
    "%%sql\n",
    "\n",
    "SELECT Product, Price, Manufacturer\n",
    "FROM Products\n",
    "WHERE Price > 100"
   ]
  },
  {
   "cell_type": "markdown",
   "metadata": {},
   "source": [
    "## Logical Operators\n",
    "\n",
    "Logical operators are used to combine multiple conditions when filtering data in a query.\n",
    "\n",
    "| Operator   | Description                                               | Example                            |\n",
    "| ---------- | --------------------------------------------------------- | ---------------------------------- |\n",
    "| `AND`      | Combines conditions where both must be true.              | `age > 30 AND city = 'Boston'`     |\n",
    "| `OR`       | Combines conditions where at least one must be true.      | `age > 30 OR city = 'Boston'`      |\n",
    "| `NOT`      | Negates a condition, selecting rows where it is not true. | `NOT (city = 'Boston')`            |\n",
    "| `BETWEEN`  | Checks if a value falls within a range (inclusive).       | `age BETWEEN 25 AND 35`            |\n",
    "| `IN`       | Checks if a value matches any value in a list.            | `city IN ('Boston', 'New York')`   |\n",
    "| `LIKE`     | Performs pattern matching in strings.                     | `name LIKE 'A%' (starts with \"A\")` |\n",
    "| `IS NULL`  | Checks if a value is NULL (missing).                      | `phone_number IS NULL`             |"
   ]
  },
  {
   "cell_type": "code",
   "execution_count": null,
   "metadata": {},
   "outputs": [],
   "source": [
    "%%sql\n",
    "\n",
    "SELECT Product, Price, Manufacturer\n",
    "FROM Products\n",
    "WHERE Price > 100 AND Category = 'Photography'"
   ]
  },
  {
   "cell_type": "markdown",
   "metadata": {},
   "source": [
    "# Eliminate Duplicates\n",
    "\n",
    "- Use `DISTINCT` to remove duplicates"
   ]
  },
  {
   "cell_type": "code",
   "execution_count": null,
   "metadata": {},
   "outputs": [],
   "source": [
    "%%sql\n",
    "\n",
    "SELECT DISTINCT Category\n",
    "FROM Products"
   ]
  },
  {
   "cell_type": "markdown",
   "metadata": {},
   "source": [
    "Try the same query without `DISTINCT` to see the difference"
   ]
  },
  {
   "cell_type": "markdown",
   "metadata": {},
   "source": [
    "## Order Results\n",
    "\n",
    "- Ties are broken by the second attribute on the `ORDER BY` list\n",
    "- Ordering is ascending, unless you specify the `DESC` keyword after a column name"
   ]
  },
  {
   "cell_type": "code",
   "execution_count": null,
   "metadata": {},
   "outputs": [],
   "source": [
    "%%sql\n",
    "\n",
    "SELECT Product, Price, Manufacturer\n",
    "FROM Products\n",
    "WHERE Category = 'Gadgets'\n",
    "ORDER BY Price, Product"
   ]
  }
 ],
 "metadata": {
  "kernelspec": {
   "display_name": "Python 3",
   "language": "python",
   "name": "python3"
  },
  "language_info": {
   "codemirror_mode": {
    "name": "ipython",
    "version": 3
   },
   "file_extension": ".py",
   "mimetype": "text/x-python",
   "name": "python",
   "nbconvert_exporter": "python",
   "pygments_lexer": "ipython3",
   "version": "3.13.2"
  }
 },
 "nbformat": 4,
 "nbformat_minor": 2
}
