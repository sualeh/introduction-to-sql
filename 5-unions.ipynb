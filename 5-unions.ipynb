{
 "cells": [
  {
   "cell_type": "markdown",
   "metadata": {},
   "source": [
    "> The slides and course material are copyrighted, and licensed under the [GNU General Public License](LICENSE)."
   ]
  },
  {
   "cell_type": "markdown",
   "metadata": {},
   "source": [
    "-----\n",
    "\n",
    "Run this section to set up your database. If you need to reset the database, you can click the Restart button."
   ]
  },
  {
   "cell_type": "code",
   "execution_count": null,
   "metadata": {},
   "outputs": [],
   "source": [
    "%pip install -qq jupysql sqlalchemy"
   ]
  },
  {
   "cell_type": "code",
   "execution_count": null,
   "metadata": {},
   "outputs": [],
   "source": [
    "from sqlalchemy import create_engine\n",
    "from create_database import create_database\n",
    "\n",
    "engine = create_engine('sqlite:///:memory:')\n",
    "create_database(engine)"
   ]
  },
  {
   "cell_type": "code",
   "execution_count": null,
   "metadata": {},
   "outputs": [],
   "source": [
    "%reload_ext sql\n",
    "%config SqlMagic.displaycon = False\n",
    "%config SqlMagic.feedback = 0\n",
    "%sql engine"
   ]
  },
  {
   "cell_type": "markdown",
   "metadata": {},
   "source": [
    "-----"
   ]
  },
  {
   "cell_type": "markdown",
   "metadata": {},
   "source": [
    "# 5. Unions\n",
    "\n",
    "In this section, we will learn how to combine results.\n",
    "\n",
    "A `UNION` combines two or more `SELECT` queries into a single result.\n",
    "\n",
    "- All `SELECT` statements must have the same number of columns\n",
    "- The columns must have compatible data types\n",
    "- The column order should match in all `SELECT` statements\n"
   ]
  },
  {
   "cell_type": "markdown",
   "metadata": {},
   "source": [
    "## Union\n",
    "\n",
    "- Combines the results of two or more `SELECT` statements, removing duplicates"
   ]
  },
  {
   "cell_type": "markdown",
   "metadata": {},
   "source": [
    "List all employees, including ones who have left."
   ]
  },
  {
   "cell_type": "code",
   "execution_count": null,
   "metadata": {},
   "outputs": [],
   "source": [
    "%%sql\n",
    "\n",
    "SELECT \n",
    "  EmployeeId, \n",
    "  Job\n",
    "FROM \n",
    "  Jobs\n",
    "UNION\n",
    "SELECT \n",
    "  EmployeeId, \n",
    "  Job\n",
    "FROM \n",
    "  JobsHistory"
   ]
  },
  {
   "cell_type": "markdown",
   "metadata": {},
   "source": [
    "## Union All\n",
    "\n",
    "- Combines the results of two or more `SELECT` statements, keeing duplicates"
   ]
  },
  {
   "cell_type": "markdown",
   "metadata": {},
   "source": [
    "List all employees, including ones who have left."
   ]
  },
  {
   "cell_type": "code",
   "execution_count": null,
   "metadata": {},
   "outputs": [],
   "source": [
    "%%sql\n",
    "\n",
    "SELECT \n",
    "  EmployeeId, \n",
    "  Job\n",
    "FROM \n",
    "  Jobs\n",
    "UNION ALL\n",
    "SELECT \n",
    "  EmployeeId, \n",
    "  Job\n",
    "FROM \n",
    "  JobsHistory"
   ]
  },
  {
   "cell_type": "markdown",
   "metadata": {},
   "source": [
    "**Note**: Notice that teacher is duplicated in the result."
   ]
  }
 ],
 "metadata": {
  "kernelspec": {
   "display_name": "Python 3",
   "language": "python",
   "name": "python3"
  },
  "language_info": {
   "codemirror_mode": {
    "name": "ipython",
    "version": 3
   },
   "file_extension": ".py",
   "mimetype": "text/x-python",
   "name": "python",
   "nbconvert_exporter": "python",
   "pygments_lexer": "ipython3",
   "version": "3.13.2"
  }
 },
 "nbformat": 4,
 "nbformat_minor": 2
}
