{
 "cells": [
  {
   "cell_type": "markdown",
   "metadata": {},
   "source": [
    "# 3. Joins\n",
    "\n",
    "In this section, we will learn how to join data from more than one table in a database. Please review the [slides for the **Introduction to SQL course**](https://docs.google.com/presentation/d/1-FhnRYrehe3VSlITi6geGqh-DrtSP6nPN4tiPgpbGqQ/present) first, and then use the examples here to experiment.\n",
    "\n",
    "> The slides and course material are copyrighted, and licensed under the [GNU General Public License](LICENSE).\n",
    "\n",
    "-----"
   ]
  },
  {
   "cell_type": "code",
   "execution_count": null,
   "metadata": {},
   "outputs": [],
   "source": [
    "%pip install -qq jupysql sqlalchemy"
   ]
  },
  {
   "cell_type": "code",
   "execution_count": null,
   "metadata": {},
   "outputs": [],
   "source": [
    "from sqlalchemy import create_engine\n",
    "from create_database import create_database\n",
    "\n",
    "engine = create_engine('sqlite:///:memory:')\n",
    "create_database(engine)"
   ]
  },
  {
   "cell_type": "code",
   "execution_count": null,
   "metadata": {},
   "outputs": [],
   "source": [
    "%reload_ext sql\n",
    "%config SqlMagic.displaycon = False\n",
    "%config SqlMagic.feedback = 0\n",
    "%sql engine"
   ]
  },
  {
   "cell_type": "markdown",
   "metadata": {},
   "source": [
    "## Inner Join\n",
    "\n",
    "- An inner join matches table rows based on some condition\n",
    "- Specifies conditions which pairs of rows satisfy"
   ]
  },
  {
   "cell_type": "markdown",
   "metadata": {},
   "source": [
    "Find students who scored more than 60 in tests."
   ]
  },
  {
   "cell_type": "code",
   "execution_count": null,
   "metadata": {},
   "outputs": [],
   "source": [
    "%%sql\n",
    "\n",
    "SELECT \n",
    "  FirstName, \n",
    "  LastName, \n",
    "  Code AS Course,\n",
    "  Grade\n",
    "FROM \n",
    "  Students \n",
    "  INNER JOIN Grades \n",
    "    ON Students.SID = Grades.SID\n",
    "WHERE\n",
    "  Grade > 60"
   ]
  },
  {
   "cell_type": "markdown",
   "metadata": {},
   "source": [
    "## Outer Join\n",
    "\n",
    "- An outer join matches table rows based on some condition\n",
    "- Some rows have no match, and are \"lost\", or \"dangle\"\n",
    "- Outer joins include dangles in the results and use NULLs to fill in the blanks"
   ]
  },
  {
   "cell_type": "markdown",
   "metadata": {},
   "source": [
    "List all students and their grades, but also include students who don't have any grades recorded yet."
   ]
  },
  {
   "cell_type": "code",
   "execution_count": null,
   "metadata": {},
   "outputs": [],
   "source": [
    "%%sql\n",
    "\n",
    "SELECT \n",
    "  FirstName, \n",
    "  LastName, \n",
    "  Code AS Course,\n",
    "  Grade\n",
    "FROM \n",
    "  Students \n",
    "  LEFT OUTER JOIN Grades \n",
    "    ON Students.SID = Grades.SID"
   ]
  }
 ],
 "metadata": {
  "kernelspec": {
   "display_name": "Python 3",
   "language": "python",
   "name": "python3"
  },
  "language_info": {
   "codemirror_mode": {
    "name": "ipython",
    "version": 3
   },
   "file_extension": ".py",
   "mimetype": "text/x-python",
   "name": "python",
   "nbconvert_exporter": "python",
   "pygments_lexer": "ipython3",
   "version": "3.13.2"
  }
 },
 "nbformat": 4,
 "nbformat_minor": 2
}
